{
 "cells": [
  {
   "cell_type": "code",
   "execution_count": 1,
   "id": "6c7fb7cf-6b5c-4689-870b-c9af20cc8293",
   "metadata": {},
   "outputs": [],
   "source": [
    "import openai\n",
    "from langchain.llms import OpenAI\n",
    "from langchain.prompts import PromptTemplate\n",
    "\n",
    "openai.api_base = \"https://openai.vocareum.com/v1\"\n",
    "api_key = \"YOUR API KEY\"\n",
    "openai.api_key = api_key"
   ]
  },
  {
   "cell_type": "markdown",
   "id": "e0c0abc0-068e-4f91-a9c6-18979a5ccd8e",
   "metadata": {},
   "source": [
    "## Generate Dummy Real Estate Data"
   ]
  },
  {
   "cell_type": "code",
   "execution_count": 2,
   "id": "ad3f2d80-2547-4ac9-9c29-63561bda4dc6",
   "metadata": {},
   "outputs": [
    {
     "name": "stdout",
     "output_type": "stream",
     "text": [
      "\n",
      "Neighborhood: Green Oaks\n",
      "Price: $800,000\n",
      "Bedrooms: 3\n",
      "Bathrooms: 2\n",
      "House Size: 2,000 sqft\n",
      "\n",
      "Description: Welcome to this eco-friendly oasis nestled in the heart of Green Oaks. This charming 3-bedroom, 2-bathroom home boasts energy-efficient features such as solar panels and a well-insulated structure. Natural light floods the living spaces, highlighting the beautiful hardwood floors and eco-conscious finishes. The open-concept kitchen and dining area lead to a spacious backyard with a vegetable garden, perfect for the eco-conscious family. Embrace sustainable living without compromising on style in this Green Oaks gem.\n",
      "\n",
      "Neighborhood Description: Green Oaks is a close-knit, environmentally-conscious community with access to organic grocery stores, community gardens, and bike paths. Take a stroll through the nearby Green Oaks Park or grab a cup of coffee at the cozy Green Bean Cafe. With easy access to public transportation and bike lanes, commuting is a breeze.\n"
     ]
    }
   ],
   "source": [
    "example = \"\"\"\n",
    "Neighborhood: Green Oaks\n",
    "Price: $800,000\n",
    "Bedrooms: 3\n",
    "Bathrooms: 2\n",
    "House Size: 2,000 sqft\n",
    "\n",
    "Description: Welcome to this eco-friendly oasis nestled in the heart of Green Oaks. This charming 3-bedroom, 2-bathroom home boasts energy-efficient features such as solar panels and a well-insulated structure. Natural light floods the living spaces, highlighting the beautiful hardwood floors and eco-conscious finishes. The open-concept kitchen and dining area lead to a spacious backyard with a vegetable garden, perfect for the eco-conscious family. Embrace sustainable living without compromising on style in this Green Oaks gem.\n",
    "\n",
    "Neighborhood Description: Green Oaks is a close-knit, environmentally-conscious community with access to organic grocery stores, community gardens, and bike paths. Take a stroll through the nearby Green Oaks Park or grab a cup of coffee at the cozy Green Bean Cafe. With easy access to public transportation and bike lanes, commuting is a breeze.\"\"\"\n",
    "\n",
    "print(example)"
   ]
  },
  {
   "cell_type": "code",
   "execution_count": 3,
   "id": "14bef000-1493-4df4-90bd-bac2fa63a20b",
   "metadata": {},
   "outputs": [],
   "source": [
    "prompt = f\"\"\"\n",
    "    \n",
    "    Create dummy data in JSON format for 10 real estate listings.\n",
    "    Each listing should contain the fields\n",
    "    Neighborhood:\n",
    "    Price:\n",
    "    Bedrooms: int \n",
    "    Bathrooms: int\n",
    "    House Size:\n",
    "    Description: str\n",
    "    Neighborhood Description: str\n",
    "    \n",
    "    An example of this is:\n",
    "    {example}\n",
    "    \n",
    "\"\"\""
   ]
  },
  {
   "cell_type": "code",
   "execution_count": 4,
   "id": "e21db87a-a10c-4142-b4c9-b4b1ffd6c6c3",
   "metadata": {},
   "outputs": [],
   "source": [
    "response = openai.ChatCompletion.create(\n",
    "    model=\"gpt-3.5-turbo\",\n",
    "    messages=[\n",
    "        {\"role\": \"system\", \"content\": \"You are a real estate agent.\"},\n",
    "        {\"role\": \"user\", \"content\": f\"{prompt}\"}\n",
    "    ],\n",
    "    response_format={\"type\": \"json_object\"},\n",
    "    temperature=1,\n",
    "    max_tokens=4000,\n",
    "    top_p=1,\n",
    "    )\n",
    "\n",
    "listings = response[\"choices\"][0][\"message\"][\"content\"]\n"
   ]
  },
  {
   "cell_type": "code",
   "execution_count": 5,
   "id": "b8a88456-2d6e-49e8-905f-417f14dae8a9",
   "metadata": {
    "scrolled": true,
    "tags": []
   },
   "outputs": [
    {
     "name": "stdout",
     "output_type": "stream",
     "text": [
      "{\n",
      "    \"listings\": [\n",
      "        {\n",
      "            \"Neighborhood\": \"Riverfront Estates\",\n",
      "            \"Price\": \"$1,200,000\",\n",
      "            \"Bedrooms\": 4,\n",
      "            \"Bathrooms\": 3,\n",
      "            \"House Size\": \"3,500 sqft\",\n",
      "            \"Description\": \"Escape to the luxurious lifestyle of Riverfront Estates where this exquisite 4-bedroom, 3-bathroom home awaits. Enjoy stunning river views from the expansive windows that fill the house with natural light. The gourmet kitchen features top-of-the-line appliances and opens up to a grand living room with a fireplace. Step outside to the meticulously landscaped backyard and relax by the tranquil waterfall. Live in elegance at Riverfront Estates.\",\n",
      "            \"Neighborhood Description\": \"Riverfront Estates offers upscale living along the riverfront with access to private marinas and exclusive dining experiences. Immerse yourself in the beauty of nature while being just a short drive away from the bustling city center.\"\n",
      "        },\n",
      "        {\n",
      "            \"Neighborhood\": \"Mountain View Heights\",\n",
      "            \"Price\": \"$950,000\",\n",
      "            \"Bedrooms\": 3,\n",
      "            \"Bathrooms\": 2,\n",
      "            \"House Size\": \"2,200 sqft\",\n",
      "            \"Description\": \"Embrace mountain living in this charming 3-bedroom, 2-bathroom home in the desirable Mountain View Heights neighborhood. The light-filled living spaces feature vaulted ceilings and a cozy fireplace, perfect for relaxation. The spacious deck offers panoramic views of the mountains, creating a serene retreat. Enjoy a modern kitchen with stainless steel appliances and a breakfast nook overlooking the scenic landscape.\",\n",
      "            \"Neighborhood Description\": \"Mountain View Heights is known for its picturesque vistas and outdoor recreational opportunities. Explore hiking trails, bike paths, and local eateries while living amidst the beauty of the mountains.\"\n",
      "        },\n",
      "        {\n",
      "            \"Neighborhood\": \"Lakefront Haven\",\n",
      "            \"Price\": \"$1,500,000\",\n",
      "            \"Bedrooms\": 5,\n",
      "            \"Bathrooms\": 4,\n",
      "            \"House Size\": \"4,000 sqft\",\n",
      "            \"Description\": \"Discover the ultimate lakefront living in this stunning 5-bedroom, 4-bathroom haven. The expansive floor plan includes a gourmet kitchen, formal dining room, and a luxe master suite with a private balcony overlooking the water. Entertain guests in the outdoor oasis complete with a pool, spa, and built-in BBQ area. With panoramic lake views from nearly every room, this home is a true waterfront gem.\",\n",
      "            \"Neighborhood Description\": \"Lakefront Haven offers an exclusive waterfront lifestyle with opportunities for boating, fishing, and lakeside dining. Enjoy the tranquility of lake living while still being conveniently located near shopping and entertainment.\"\n",
      "        },\n",
      "        {\n",
      "            \"Neighborhood\": \"Downtown Loft District\",\n",
      "            \"Price\": \"$700,000\",\n",
      "            \"Bedrooms\": 2,\n",
      "            \"Bathrooms\": 2,\n",
      "            \"House Size\": \"1,800 sqft\",\n",
      "            \"Description\": \"Live in the heart of the city in this stylish 2-bedroom, 2-bathroom loft located in the vibrant Downtown Loft District. The industrial-chic space features exposed brick walls, high ceilings, and large windows that offer city views. The modern kitchen includes sleek appliances and a breakfast bar, perfect for entertaining. Work from home in the designated office area or unwind in the rooftop terrace with skyline views.\",\n",
      "            \"Neighborhood Description\": \"Downtown Loft District is a dynamic urban neighborhood known for its trendy galleries, eclectic dining options, and lively nightlife scene. Experience city living at its finest with easy access to public transportation and cultural attractions.\"\n",
      "        },\n",
      "        {\n",
      "            \"Neighborhood\": \"Suburban Meadows\",\n",
      "            \"Price\": \"$800,000\",\n",
      "            \"Bedrooms\": 4,\n",
      "            \"Bathrooms\": 3,\n",
      "            \"House Size\": \"2,500 sqft\",\n",
      "            \"Description\": \"Welcome home to this spacious 4-bedroom, 3-bathroom residence in the family-friendly Suburban Meadows neighborhood. The airy layout features a formal living room, cozy family room with a fireplace, and a gourmet kitchen with granite countertops. Retreat to the private backyard oasis complete with a lush lawn and patio for outdoor gatherings. With a designated home office and ample storage space, this home has it all.\",\n",
      "            \"Neighborhood Description\": \"Suburban Meadows is a peaceful community with tree-lined streets, parks, and top-rated schools. Enjoy a suburban lifestyle with easy access to shopping centers, restaurants, and community events.\"\n",
      "        },\n",
      "        {\n",
      "            \"Neighborhood\": \"Oceanfront Retreat\",\n",
      "            \"Price\": \"$2,000,000\",\n",
      "            \"Bedrooms\": 6,\n",
      "            \"Bathrooms\": 5,\n",
      "            \"House Size\": \"5,500 sqft\",\n",
      "            \"Description\": \"Indulge in luxury living at this extraordinary 6-bedroom, 5-bathroom oceanfront retreat. The elegant home features a grand entrance, formal dining room, and a gourmet chef's kitchen with ocean views. Relax in the master suite with a private balcony overlooking the water or entertain guests in the expansive backyard with a pool, spa, and outdoor kitchen. Experience coastal living at its finest in this exclusive retreat.\",\n",
      "            \"Neighborhood Description\": \"Oceanfront Retreat offers direct beach access and breathtaking ocean vistas. Immerse yourself in the coastal lifestyle with surfing, sunbathing, and seaside dining just steps away from your front door.\"\n",
      "        },\n",
      "        {\n",
      "            \"Neighborhood\": \"Golf Course Community\",\n",
      "            \"Price\": \"$1,100,000\",\n",
      "            \"Bedrooms\": 4,\n",
      "            \"Bathrooms\": 3,\n",
      "            \"House Size\": \"3,000 sqft\",\n",
      "            \"Description\": \"Live in luxury in this 4-bedroom, 3-bathroom home situated in the prestigious Golf Course Community. The spacious interior showcases a formal living room, elegant dining area, and a gourmet kitchen with premium appliances. The outdoor living space overlooks the lush fairways and offers a covered patio for al fresco dining. Enjoy resort-style amenities and scenic views in this exclusive golf course enclave.\",\n",
      "            \"Neighborhood Description\": \"Golf Course Community is a golfer's paradise with championship courses, clubhouses, and social events. Experience upscale living with access to golf, tennis, and fine dining right in your own neighborhood.\"\n",
      "        },\n",
      "        {\n",
      "            \"Neighborhood\": \"Historic Downtown\",\n",
      "            \"Price\": \"$900,000\",\n",
      "            \"Bedrooms\": 3,\n",
      "            \"Bathrooms\": 2,\n",
      "            \"House Size\": \"2,300 sqft\",\n",
      "            \"Description\": \"Step back in time with this charming 3-bedroom, 2-bathroom home located in the Historic Downtown district. The historic features combined with modern amenities create a unique living experience. Original hardwood floors, vintage fixtures, and a cozy fireplace add character to the home. Stroll to the nearby shops and restaurants or relax on the classic front porch overlooking tree-lined streets.\",\n",
      "            \"Neighborhood Description\": \"Historic Downtown is a vibrant district filled with historic architecture, local boutiques, and cultural attractions. Enjoy the charm of yesteryear while being just moments away from modern conveniences.\"\n",
      "        },\n",
      "        {\n",
      "            \"Neighborhood\": \"Ski-In/Ski-Out Chalet\",\n",
      "            \"Price\": \"$1,800,000\",\n",
      "            \"Bedrooms\": 5,\n",
      "            \"Bathrooms\": 4,\n",
      "            \"House Size\": \"4,500 sqft\",\n",
      "            \"Description\": \"Experience the ultimate ski-in/ski-out lifestyle in this magnificent 5-bedroom, 4-bathroom chalet. The mountain retreat features a spacious great room with vaulted ceilings, a gourmet kitchen, and multiple fireplaces for cozy evenings. Enjoy direct access to the slopes from the ski room and relax in the hot tub with mountain views. Live in luxury at this exclusive ski-in/ski-out residence.\",\n",
      "            \"Neighborhood Description\": \"Ski-In/Ski-Out Chalet offers unparalleled access to world-class skiing and snowboarding just steps from your door. Embrace the winter wonderland with ski runs, apres-ski lounges, and mountain activities right at your fingertips.\"\n",
      "        },\n",
      "        {\n",
      "            \"Neighborhood\": \"Vineyard Estates\",\n",
      "            \"Price\": \"$1,300,000\",\n",
      "            \"Bedrooms\": 4,\n",
      "            \"Bathrooms\": 3,\n",
      "            \"House Size\": \"3,200 sqft\",\n",
      "            \"Description\": \"Find serenity in this exquisite 4-bedroom, 3-bathroom home nestled in the exclusive Vineyard Estates community. Surrounded by vineyards and rolling hills, this wine country retreat offers a peaceful escape. The open floor plan features a chef's kitchen, wine cellar, and a luxurious master suite with vineyard views. Relax in the outdoor entertainment area with a fire pit and panoramic vistas of the vineyards.\",\n",
      "            \"Neighborhood Description\": \"Vineyard Estates is a prestigious enclave known for its wineries, tasting rooms, and vineyard events. Live the wine country lifestyle with access to award-winning wines and stunning vineyard landscapes.\"\n",
      "        }\n",
      "    ]\n",
      "}\n"
     ]
    }
   ],
   "source": [
    "print(listings)"
   ]
  },
  {
   "cell_type": "code",
   "execution_count": 6,
   "id": "9fb2a0c0-4de8-441d-a5f1-4ae8912667a9",
   "metadata": {
    "scrolled": true,
    "tags": []
   },
   "outputs": [
    {
     "data": {
      "text/plain": [
       "[{'Neighborhood': 'Riverfront Estates',\n",
       "  'Price': '$1,200,000',\n",
       "  'Bedrooms': 4,\n",
       "  'Bathrooms': 3,\n",
       "  'House Size': '3,500 sqft',\n",
       "  'Description': 'Escape to the luxurious lifestyle of Riverfront Estates where this exquisite 4-bedroom, 3-bathroom home awaits. Enjoy stunning river views from the expansive windows that fill the house with natural light. The gourmet kitchen features top-of-the-line appliances and opens up to a grand living room with a fireplace. Step outside to the meticulously landscaped backyard and relax by the tranquil waterfall. Live in elegance at Riverfront Estates.',\n",
       "  'Neighborhood Description': 'Riverfront Estates offers upscale living along the riverfront with access to private marinas and exclusive dining experiences. Immerse yourself in the beauty of nature while being just a short drive away from the bustling city center.'},\n",
       " {'Neighborhood': 'Mountain View Heights',\n",
       "  'Price': '$950,000',\n",
       "  'Bedrooms': 3,\n",
       "  'Bathrooms': 2,\n",
       "  'House Size': '2,200 sqft',\n",
       "  'Description': 'Embrace mountain living in this charming 3-bedroom, 2-bathroom home in the desirable Mountain View Heights neighborhood. The light-filled living spaces feature vaulted ceilings and a cozy fireplace, perfect for relaxation. The spacious deck offers panoramic views of the mountains, creating a serene retreat. Enjoy a modern kitchen with stainless steel appliances and a breakfast nook overlooking the scenic landscape.',\n",
       "  'Neighborhood Description': 'Mountain View Heights is known for its picturesque vistas and outdoor recreational opportunities. Explore hiking trails, bike paths, and local eateries while living amidst the beauty of the mountains.'}]"
      ]
     },
     "execution_count": 6,
     "metadata": {},
     "output_type": "execute_result"
    }
   ],
   "source": [
    "import json\n",
    "\n",
    "listings_list = json.loads(listings)[\"listings\"]\n",
    "listings_list[:2]"
   ]
  },
  {
   "cell_type": "code",
   "execution_count": 7,
   "id": "a8e69f97-0524-4660-b129-62b2361b9fe5",
   "metadata": {},
   "outputs": [
    {
     "data": {
      "text/html": [
       "<div>\n",
       "<style scoped>\n",
       "    .dataframe tbody tr th:only-of-type {\n",
       "        vertical-align: middle;\n",
       "    }\n",
       "\n",
       "    .dataframe tbody tr th {\n",
       "        vertical-align: top;\n",
       "    }\n",
       "\n",
       "    .dataframe thead th {\n",
       "        text-align: right;\n",
       "    }\n",
       "</style>\n",
       "<table border=\"1\" class=\"dataframe\">\n",
       "  <thead>\n",
       "    <tr style=\"text-align: right;\">\n",
       "      <th></th>\n",
       "      <th>Neighborhood</th>\n",
       "      <th>Price</th>\n",
       "      <th>Bedrooms</th>\n",
       "      <th>Bathrooms</th>\n",
       "      <th>House Size</th>\n",
       "      <th>Description</th>\n",
       "      <th>Neighborhood Description</th>\n",
       "    </tr>\n",
       "  </thead>\n",
       "  <tbody>\n",
       "    <tr>\n",
       "      <th>0</th>\n",
       "      <td>Riverfront Estates</td>\n",
       "      <td>$1,200,000</td>\n",
       "      <td>4</td>\n",
       "      <td>3</td>\n",
       "      <td>3,500 sqft</td>\n",
       "      <td>Escape to the luxurious lifestyle of Riverfron...</td>\n",
       "      <td>Riverfront Estates offers upscale living along...</td>\n",
       "    </tr>\n",
       "    <tr>\n",
       "      <th>1</th>\n",
       "      <td>Mountain View Heights</td>\n",
       "      <td>$950,000</td>\n",
       "      <td>3</td>\n",
       "      <td>2</td>\n",
       "      <td>2,200 sqft</td>\n",
       "      <td>Embrace mountain living in this charming 3-bed...</td>\n",
       "      <td>Mountain View Heights is known for its picture...</td>\n",
       "    </tr>\n",
       "    <tr>\n",
       "      <th>2</th>\n",
       "      <td>Lakefront Haven</td>\n",
       "      <td>$1,500,000</td>\n",
       "      <td>5</td>\n",
       "      <td>4</td>\n",
       "      <td>4,000 sqft</td>\n",
       "      <td>Discover the ultimate lakefront living in this...</td>\n",
       "      <td>Lakefront Haven offers an exclusive waterfront...</td>\n",
       "    </tr>\n",
       "  </tbody>\n",
       "</table>\n",
       "</div>"
      ],
      "text/plain": [
       "            Neighborhood       Price  Bedrooms  Bathrooms  House Size  \\\n",
       "0     Riverfront Estates  $1,200,000         4          3  3,500 sqft   \n",
       "1  Mountain View Heights    $950,000         3          2  2,200 sqft   \n",
       "2        Lakefront Haven  $1,500,000         5          4  4,000 sqft   \n",
       "\n",
       "                                         Description  \\\n",
       "0  Escape to the luxurious lifestyle of Riverfron...   \n",
       "1  Embrace mountain living in this charming 3-bed...   \n",
       "2  Discover the ultimate lakefront living in this...   \n",
       "\n",
       "                            Neighborhood Description  \n",
       "0  Riverfront Estates offers upscale living along...  \n",
       "1  Mountain View Heights is known for its picture...  \n",
       "2  Lakefront Haven offers an exclusive waterfront...  "
      ]
     },
     "execution_count": 7,
     "metadata": {},
     "output_type": "execute_result"
    }
   ],
   "source": [
    "import pandas as pd\n",
    "\n",
    "df = pd.DataFrame(listings_list)\n",
    "df.to_csv(\"listings.csv\", index=False)\n",
    "\n",
    "df.head(3)"
   ]
  },
  {
   "cell_type": "markdown",
   "id": "6fbde3ef-3f7f-450e-92b1-2fe51e73841c",
   "metadata": {},
   "source": [
    "## Generate Embeddings"
   ]
  },
  {
   "cell_type": "code",
   "execution_count": 8,
   "id": "fa60ae5f-d1eb-4572-893a-a40dee1a8992",
   "metadata": {},
   "outputs": [],
   "source": [
    "from lancedb.pydantic import Vector, LanceModel\n",
    "from lancedb.embeddings import get_registry\n",
    "\n",
    "import numpy as np\n",
    "\n",
    "def combine_columns(row):\n",
    "    return str(\"Neighborhood: \" + row['Neighborhood']) + \", Price: \" + str(row['Price']) + \", Bedrooms: \" + str(row['Bedrooms'])\\\n",
    "        + \", Bathrooms: \"+ str(row['Bathrooms']) + \", House Size: \" + str(row['House Size']) + \", Description: \" + row['Description']\\\n",
    "        + \", Neighborhood Description: \"+ row['Neighborhood Description']\n",
    "\n",
    "\n",
    "df['combined'] = df.apply(lambda x:combine_columns(x), axis=1)"
   ]
  },
  {
   "cell_type": "code",
   "execution_count": 9,
   "id": "a49891b8-ae6c-4fde-a834-3ced5ecc83b5",
   "metadata": {},
   "outputs": [],
   "source": [
    "EMBEDDING_MODEL_NAME = \"text-embedding-ada-002\"\n",
    "batch_size = 100\n",
    "embeddings = []\n",
    "for i in range(0, len(df), batch_size):\n",
    "    # Send text data to OpenAI model to get embeddings\n",
    "    response = openai.Embedding.create(\n",
    "        input=df.iloc[i:i+batch_size][\"combined\"].tolist(),\n",
    "        engine=EMBEDDING_MODEL_NAME\n",
    "    )\n",
    "    \n",
    "    # Add embeddings to list\n",
    "    embeddings.extend([data[\"embedding\"] for data in response[\"data\"]])\n",
    "\n",
    "# Add embeddings list to dataframe\n",
    "df[\"embeddings\"] = embeddings"
   ]
  },
  {
   "cell_type": "code",
   "execution_count": 10,
   "id": "69393a73-c8f4-4dde-a990-2fcae2f161a1",
   "metadata": {},
   "outputs": [
    {
     "data": {
      "text/html": [
       "<div>\n",
       "<style scoped>\n",
       "    .dataframe tbody tr th:only-of-type {\n",
       "        vertical-align: middle;\n",
       "    }\n",
       "\n",
       "    .dataframe tbody tr th {\n",
       "        vertical-align: top;\n",
       "    }\n",
       "\n",
       "    .dataframe thead th {\n",
       "        text-align: right;\n",
       "    }\n",
       "</style>\n",
       "<table border=\"1\" class=\"dataframe\">\n",
       "  <thead>\n",
       "    <tr style=\"text-align: right;\">\n",
       "      <th></th>\n",
       "      <th>Neighborhood</th>\n",
       "      <th>Price</th>\n",
       "      <th>Bedrooms</th>\n",
       "      <th>Bathrooms</th>\n",
       "      <th>House Size</th>\n",
       "      <th>Description</th>\n",
       "      <th>Neighborhood Description</th>\n",
       "      <th>combined</th>\n",
       "      <th>embeddings</th>\n",
       "    </tr>\n",
       "  </thead>\n",
       "  <tbody>\n",
       "    <tr>\n",
       "      <th>0</th>\n",
       "      <td>Riverfront Estates</td>\n",
       "      <td>$1,200,000</td>\n",
       "      <td>4</td>\n",
       "      <td>3</td>\n",
       "      <td>3,500 sqft</td>\n",
       "      <td>Escape to the luxurious lifestyle of Riverfron...</td>\n",
       "      <td>Riverfront Estates offers upscale living along...</td>\n",
       "      <td>Neighborhood: Riverfront Estates, Price: $1,20...</td>\n",
       "      <td>[0.0015989412786439061, 0.01223020814359188, -...</td>\n",
       "    </tr>\n",
       "    <tr>\n",
       "      <th>1</th>\n",
       "      <td>Mountain View Heights</td>\n",
       "      <td>$950,000</td>\n",
       "      <td>3</td>\n",
       "      <td>2</td>\n",
       "      <td>2,200 sqft</td>\n",
       "      <td>Embrace mountain living in this charming 3-bed...</td>\n",
       "      <td>Mountain View Heights is known for its picture...</td>\n",
       "      <td>Neighborhood: Mountain View Heights, Price: $9...</td>\n",
       "      <td>[0.013038930483162403, 0.005120590794831514, -...</td>\n",
       "    </tr>\n",
       "  </tbody>\n",
       "</table>\n",
       "</div>"
      ],
      "text/plain": [
       "            Neighborhood       Price  Bedrooms  Bathrooms  House Size  \\\n",
       "0     Riverfront Estates  $1,200,000         4          3  3,500 sqft   \n",
       "1  Mountain View Heights    $950,000         3          2  2,200 sqft   \n",
       "\n",
       "                                         Description  \\\n",
       "0  Escape to the luxurious lifestyle of Riverfron...   \n",
       "1  Embrace mountain living in this charming 3-bed...   \n",
       "\n",
       "                            Neighborhood Description  \\\n",
       "0  Riverfront Estates offers upscale living along...   \n",
       "1  Mountain View Heights is known for its picture...   \n",
       "\n",
       "                                            combined  \\\n",
       "0  Neighborhood: Riverfront Estates, Price: $1,20...   \n",
       "1  Neighborhood: Mountain View Heights, Price: $9...   \n",
       "\n",
       "                                          embeddings  \n",
       "0  [0.0015989412786439061, 0.01223020814359188, -...  \n",
       "1  [0.013038930483162403, 0.005120590794831514, -...  "
      ]
     },
     "execution_count": 10,
     "metadata": {},
     "output_type": "execute_result"
    }
   ],
   "source": [
    "df.head(2)"
   ]
  },
  {
   "cell_type": "code",
   "execution_count": 11,
   "id": "a281df19-4a3f-4c5e-8edb-ef3d5829ee69",
   "metadata": {},
   "outputs": [],
   "source": [
    "from openai.embeddings_utils import get_embedding, distances_from_embeddings\n",
    "\n",
    "def get_rows_sorted_by_relevance(question, df):\n",
    "    \"\"\"\n",
    "    Function that takes in a question string and a dataframe containing\n",
    "    rows of text and associated embeddings, and returns that dataframe\n",
    "    sorted from least to most relevant for that question\n",
    "    \"\"\"\n",
    "    \n",
    "    # Get embeddings for the question text\n",
    "    question_embeddings = get_embedding(question, engine=EMBEDDING_MODEL_NAME)\n",
    "    \n",
    "    # Make a copy of the dataframe and add a \"distances\" column containing\n",
    "    # the cosine distances between each row's embeddings and the\n",
    "    # embeddings of the question\n",
    "    df_copy = df.copy()\n",
    "    df_copy[\"distances\"] = distances_from_embeddings(\n",
    "        question_embeddings,\n",
    "        df_copy[\"embeddings\"].values,\n",
    "        distance_metric=\"cosine\"\n",
    "    )\n",
    "    \n",
    "    # Sort the copied dataframe by the distances and return it\n",
    "    # (shorter distance = more relevant so we sort in ascending order)\n",
    "    df_copy.sort_values(\"distances\", ascending=True, inplace=True)\n",
    "    return df_copy"
   ]
  },
  {
   "cell_type": "markdown",
   "id": "fa1e5b97-f0bd-4a51-9f1d-c1b2c983ca14",
   "metadata": {},
   "source": [
    "## Filtering by User Requirements"
   ]
  },
  {
   "cell_type": "code",
   "execution_count": 12,
   "id": "ab35cedf-4e30-41c9-a0ea-930c3af0d0e5",
   "metadata": {},
   "outputs": [],
   "source": [
    "questions = [   \n",
    "    \"How big do you want your house to be?\",\n",
    "    \"What are 3 most important things for you in choosing this property?\", \n",
    "    \"Which amenities would you like?\", \n",
    "    \"Which transportation options are important to you?\",\n",
    "    \"How urban do you want your neighborhood to be?\"]\n",
    "answers = [\n",
    "    \"A comfortable three-bedroom house with a spacious kitchen and a cozy living room.\",\n",
    "    \"A quiet neighborhood, good local schools, and convenient shopping options.\",\n",
    "    \"A backyard for gardening, a two-car garage, and a modern, energy-efficient heating system.\",\n",
    "    \"Easy access to a reliable bus line, proximity to a major highway, and bike-friendly roads.\",\n",
    "    \"A balance between suburban tranquility and access to urban amenities like restaurants and theaters.\"]"
   ]
  },
  {
   "cell_type": "code",
   "execution_count": 13,
   "id": "ea7f1c84-1988-4b68-8d10-2905000524e5",
   "metadata": {},
   "outputs": [],
   "source": [
    "userRequirements = \" \".join(answers)\n",
    "sortedRows = get_rows_sorted_by_relevance(userRequirements, df)"
   ]
  },
  {
   "cell_type": "code",
   "execution_count": 14,
   "id": "a41732a7-4a24-41fa-b0ed-8efa961a859a",
   "metadata": {},
   "outputs": [
    {
     "data": {
      "text/html": [
       "<div>\n",
       "<style scoped>\n",
       "    .dataframe tbody tr th:only-of-type {\n",
       "        vertical-align: middle;\n",
       "    }\n",
       "\n",
       "    .dataframe tbody tr th {\n",
       "        vertical-align: top;\n",
       "    }\n",
       "\n",
       "    .dataframe thead th {\n",
       "        text-align: right;\n",
       "    }\n",
       "</style>\n",
       "<table border=\"1\" class=\"dataframe\">\n",
       "  <thead>\n",
       "    <tr style=\"text-align: right;\">\n",
       "      <th></th>\n",
       "      <th>Neighborhood</th>\n",
       "      <th>Price</th>\n",
       "      <th>Bedrooms</th>\n",
       "      <th>Bathrooms</th>\n",
       "      <th>House Size</th>\n",
       "      <th>Description</th>\n",
       "      <th>Neighborhood Description</th>\n",
       "      <th>combined</th>\n",
       "      <th>embeddings</th>\n",
       "      <th>distances</th>\n",
       "    </tr>\n",
       "  </thead>\n",
       "  <tbody>\n",
       "    <tr>\n",
       "      <th>4</th>\n",
       "      <td>Suburban Meadows</td>\n",
       "      <td>$800,000</td>\n",
       "      <td>4</td>\n",
       "      <td>3</td>\n",
       "      <td>2,500 sqft</td>\n",
       "      <td>Welcome home to this spacious 4-bedroom, 3-bat...</td>\n",
       "      <td>Suburban Meadows is a peaceful community with ...</td>\n",
       "      <td>Neighborhood: Suburban Meadows, Price: $800,00...</td>\n",
       "      <td>[0.006916717626154423, 0.024977391585707664, -...</td>\n",
       "      <td>0.134989</td>\n",
       "    </tr>\n",
       "    <tr>\n",
       "      <th>7</th>\n",
       "      <td>Historic Downtown</td>\n",
       "      <td>$900,000</td>\n",
       "      <td>3</td>\n",
       "      <td>2</td>\n",
       "      <td>2,300 sqft</td>\n",
       "      <td>Step back in time with this charming 3-bedroom...</td>\n",
       "      <td>Historic Downtown is a vibrant district filled...</td>\n",
       "      <td>Neighborhood: Historic Downtown, Price: $900,0...</td>\n",
       "      <td>[0.002905286382883787, 0.02250443957746029, -0...</td>\n",
       "      <td>0.168252</td>\n",
       "    </tr>\n",
       "  </tbody>\n",
       "</table>\n",
       "</div>"
      ],
      "text/plain": [
       "        Neighborhood     Price  Bedrooms  Bathrooms  House Size  \\\n",
       "4   Suburban Meadows  $800,000         4          3  2,500 sqft   \n",
       "7  Historic Downtown  $900,000         3          2  2,300 sqft   \n",
       "\n",
       "                                         Description  \\\n",
       "4  Welcome home to this spacious 4-bedroom, 3-bat...   \n",
       "7  Step back in time with this charming 3-bedroom...   \n",
       "\n",
       "                            Neighborhood Description  \\\n",
       "4  Suburban Meadows is a peaceful community with ...   \n",
       "7  Historic Downtown is a vibrant district filled...   \n",
       "\n",
       "                                            combined  \\\n",
       "4  Neighborhood: Suburban Meadows, Price: $800,00...   \n",
       "7  Neighborhood: Historic Downtown, Price: $900,0...   \n",
       "\n",
       "                                          embeddings  distances  \n",
       "4  [0.006916717626154423, 0.024977391585707664, -...   0.134989  \n",
       "7  [0.002905286382883787, 0.02250443957746029, -0...   0.168252  "
      ]
     },
     "execution_count": 14,
     "metadata": {},
     "output_type": "execute_result"
    }
   ],
   "source": [
    "relevantRows = sortedRows[sortedRows[\"distances\"] < 0.17].head(5)\n",
    "relevantRows"
   ]
  },
  {
   "cell_type": "code",
   "execution_count": 15,
   "id": "0b2535c3-1709-44f6-8bd3-28837af4dafa",
   "metadata": {},
   "outputs": [
    {
     "data": {
      "text/plain": [
       "['Neighborhood: Suburban Meadows, Price: $800,000, Bedrooms: 4, Bathrooms: 3, House Size: 2,500 sqft, Description: Welcome home to this spacious 4-bedroom, 3-bathroom residence in the family-friendly Suburban Meadows neighborhood. The airy layout features a formal living room, cozy family room with a fireplace, and a gourmet kitchen with granite countertops. Retreat to the private backyard oasis complete with a lush lawn and patio for outdoor gatherings. With a designated home office and ample storage space, this home has it all., Neighborhood Description: Suburban Meadows is a peaceful community with tree-lined streets, parks, and top-rated schools. Enjoy a suburban lifestyle with easy access to shopping centers, restaurants, and community events.',\n",
       " 'Neighborhood: Historic Downtown, Price: $900,000, Bedrooms: 3, Bathrooms: 2, House Size: 2,300 sqft, Description: Step back in time with this charming 3-bedroom, 2-bathroom home located in the Historic Downtown district. The historic features combined with modern amenities create a unique living experience. Original hardwood floors, vintage fixtures, and a cozy fireplace add character to the home. Stroll to the nearby shops and restaurants or relax on the classic front porch overlooking tree-lined streets., Neighborhood Description: Historic Downtown is a vibrant district filled with historic architecture, local boutiques, and cultural attractions. Enjoy the charm of yesteryear while being just moments away from modern conveniences.']"
      ]
     },
     "execution_count": 15,
     "metadata": {},
     "output_type": "execute_result"
    }
   ],
   "source": [
    "matches = [i for i in relevantRows[\"combined\"]]\n",
    "matches"
   ]
  },
  {
   "cell_type": "markdown",
   "id": "d0145552-d835-4cde-8656-fd8845b6d156",
   "metadata": {},
   "source": [
    "## Real Estate Agent Sell Pitch"
   ]
  },
  {
   "cell_type": "code",
   "execution_count": 16,
   "id": "2ae16098-33ab-4c46-985a-594a5da1e180",
   "metadata": {},
   "outputs": [],
   "source": [
    "prompt = f\"\"\"\n",
    "    A buyer is looking for properties with these requirements:\n",
    "    {userRequirements}\n",
    "\n",
    "    You are a real estate agent tasked with selling properties.\n",
    "    For each of the properties in the list below, create a persuasive and engaging sales pitch from the perspective of a knowledgeable and enthusiastic real estate agent.\n",
    "    The pitch should highlight how each property meets the buyer's needs, focusing on the benefits and lifestyle aspects, not just the specifications.\n",
    "    Also suggest what doesnt match the user's needs and list how those properties could be beneficial to have\n",
    "    Do not change any factual information in the properties's spesification\n",
    "    Use a friendly and professional tone to make the buyer feel confident and excited about the potential of each property.\n",
    "    Ensure that the descriptions are vivid and relatable, emphasizing the quality of life they can expect from living in these homes.\n",
    "\n",
    "    Here are the properties:\n",
    "    {matches}\n",
    "\"\"\"\n",
    "\n",
    "response = openai.ChatCompletion.create(\n",
    "    model=\"gpt-3.5-turbo\",\n",
    "    messages=[\n",
    "        {\"role\": \"system\", \"content\": \"You are a real estate agent.\"},\n",
    "        {\"role\": \"user\", \"content\": f\"{prompt}\"}\n",
    "    ],\n",
    "    temperature=1,\n",
    "    max_tokens=4000,\n",
    "    top_p=1,\n",
    "    )\n",
    "\n",
    "sellPitch = response[\"choices\"][0][\"message\"][\"content\"]"
   ]
  },
  {
   "cell_type": "code",
   "execution_count": 17,
   "id": "fa76eea2-b622-434f-93c7-a9bee1c3397d",
   "metadata": {},
   "outputs": [
    {
     "name": "stdout",
     "output_type": "stream",
     "text": [
      "Property in Suburban Meadows:\n",
      "🌟 Welcome to your new sanctuary in the heart of the family-friendly Suburban Meadows neighborhood! This spacious 4-bedroom, 3-bathroom home is perfect for creating lasting memories with your loved ones. The airy layout offers a formal living room for elegant entertaining, a cozy family room with a fireplace for cozy evenings, and a gourmet kitchen with granite countertops where culinary masterpieces come to life.\n",
      "\n",
      "🏡 Imagine retreating to your own private backyard oasis, complete with a lush lawn and a patio perfect for al fresco dining or relaxing under the stars. Need a designated home office or extra storage space? This home has you covered with ample room for all your needs.\n",
      "\n",
      "🌳 Suburban Meadows offers a peaceful setting with tree-lined streets, parks, and top-rated schools, making it an ideal place to raise a family. Enjoy the convenience of nearby shopping centers, restaurants, and community events while basking in the tranquil vibe of this well-established community.\n",
      "\n",
      "💡 While this property boasts an extra bedroom, the additional space could easily be transformed into a hobby room, guest suite, or even a dedicated workout space, catering to a variety of lifestyle needs.\n",
      "\n",
      "Property in Historic Downtown:\n",
      "🏡 Step back in time and experience the charm of a bygone era with this enchanting 3-bedroom, 2-bathroom home nestled in the heart of the Historic Downtown district. Immerse yourself in the perfect blend of historic features and modern amenities, where original hardwood floors, vintage fixtures, and a cozy fireplace create a warm and inviting atmosphere.\n",
      "\n",
      "🛍️ Take a leisurely stroll to the nearby shops and restaurants or unwind on the classic front porch while admiring the picturesque tree-lined streets. The historic architecture and local boutiques in this vibrant district add a touch of nostalgia to your everyday life.\n",
      "\n",
      "🎭 With easy access to cultural attractions and modern conveniences, Historic Downtown offers the best of both worlds, combining old-world charm with contemporary living.\n",
      "\n",
      "💡While this property has one less bedroom than you requested, the charming ambiance of the Historic Downtown district and the unique architectural features make it a standout choice for those looking for a character-filled home with a touch of history. The extra bedroom could be repurposed as a home gym, a cozy reading nook, or a versatile home office to suit your specific lifestyle needs.\n",
      "\n",
      "Contact me today to schedule a viewing and take the first step towards finding your dream home that perfectly balances suburban tranquility with access to urban amenities! 🏡🔑\n"
     ]
    }
   ],
   "source": [
    "print(sellPitch)"
   ]
  },
  {
   "cell_type": "code",
   "execution_count": null,
   "id": "c0593007-ca7f-45c3-b9a6-01f5faa5adf0",
   "metadata": {},
   "outputs": [],
   "source": []
  }
 ],
 "metadata": {
  "kernelspec": {
   "display_name": "Python 3 (ipykernel)",
   "language": "python",
   "name": "python3"
  },
  "language_info": {
   "codemirror_mode": {
    "name": "ipython",
    "version": 3
   },
   "file_extension": ".py",
   "mimetype": "text/x-python",
   "name": "python",
   "nbconvert_exporter": "python",
   "pygments_lexer": "ipython3",
   "version": "3.11.1"
  }
 },
 "nbformat": 4,
 "nbformat_minor": 5
}
